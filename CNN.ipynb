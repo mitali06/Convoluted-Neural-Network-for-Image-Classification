{
 "cells": [
  {
   "cell_type": "code",
   "execution_count": 1,
   "id": "4e46d0c5",
   "metadata": {},
   "outputs": [],
   "source": [
    "import numpy\n",
    "from keras.models import Sequential\n",
    "from keras.layers import Dense, Dropout, Flatten, BatchNormalization, Activation\n",
    "from keras.layers.convolutional import Conv2D, MaxPooling2D\n",
    "from keras.constraints import maxnorm\n",
    "from keras.utils import np_utils"
   ]
  },
  {
   "cell_type": "code",
   "execution_count": 3,
   "id": "6678b0e8",
   "metadata": {},
   "outputs": [
    {
     "name": "stdout",
     "output_type": "stream",
     "text": [
      "A local file was found, but it seems to be incomplete or outdated because the auto file hash does not match the original value of 6d958be074577803d12ecdefd02955f39262c83c16fe9348329d7fe0b5c001ce so we will re-download the data.\n",
      "Downloading data from https://www.cs.toronto.edu/~kriz/cifar-10-python.tar.gz\n",
      "170500096/170498071 [==============================] - 1240s 7us/step\n"
     ]
    }
   ],
   "source": [
    "# importing the dataset\n",
    "from keras.datasets import cifar10\n",
    "\n",
    "# loading in the data     \n",
    "(X_train, y_train), (X_test, y_test) = cifar10.load_data()"
   ]
  },
  {
   "cell_type": "code",
   "execution_count": 4,
   "id": "441365fb",
   "metadata": {},
   "outputs": [],
   "source": [
    "# normalize the inputs from 0-255 to between 0 and 1 by dividing by 255\n",
    "    \n",
    "X_train = X_train.astype('float32')\n",
    "X_test = X_test.astype('float32')\n",
    "X_train = X_train / 255.0\n",
    "X_test = X_test / 255.0"
   ]
  },
  {
   "cell_type": "code",
   "execution_count": 5,
   "id": "be8e6195",
   "metadata": {},
   "outputs": [],
   "source": [
    "# one hot encode outputs\n",
    "y_train = np_utils.to_categorical(y_train)\n",
    "y_test = np_utils.to_categorical(y_test)\n",
    "\n",
    "class_num = y_test.shape[1]"
   ]
  },
  {
   "cell_type": "code",
   "execution_count": 9,
   "id": "e474db80",
   "metadata": {},
   "outputs": [],
   "source": [
    "# creating the model\n",
    "model = Sequential()\n",
    "\n",
    "model.add(Conv2D(32, (3, 3), input_shape=X_train.shape[1:], padding='same'))\n",
    "model.add(Activation('relu'))\n",
    "#model.add(Conv2D(32, (3, 3), input_shape=(3, 32, 32), activation='relu', padding='same'))\n",
    "model.add(Dropout(0.2))\n",
    "model.add(BatchNormalization())\n",
    "\n",
    "model.add(Conv2D(64, (3, 3), padding='same'))\n",
    "model.add(Activation('relu'))\n",
    "model.add(MaxPooling2D(pool_size=(2, 2)))\n",
    "model.add(Dropout(0.2))\n",
    "model.add(BatchNormalization())\n",
    "\n",
    "model.add(Flatten())\n",
    "model.add(Dropout(0.2))\n",
    "\n",
    "model.add(Dense(256, kernel_constraint=maxnorm(3)))\n",
    "model.add(Activation('relu'))\n",
    "model.add(Dropout(0.2))\n",
    "model.add(BatchNormalization())\n",
    "    \n",
    "model.add(Dense(128, kernel_constraint=maxnorm(3)))\n",
    "model.add(Activation('relu'))\n",
    "model.add(Dropout(0.2))\n",
    "model.add(BatchNormalization())\n",
    "\n",
    "model.add(Dense(class_num))\n",
    "model.add(Activation('softmax'))"
   ]
  },
  {
   "cell_type": "code",
   "execution_count": 12,
   "id": "80194367",
   "metadata": {},
   "outputs": [
    {
     "name": "stdout",
     "output_type": "stream",
     "text": [
      "Model: \"sequential_3\"\n",
      "_________________________________________________________________\n",
      "Layer (type)                 Output Shape              Param #   \n",
      "=================================================================\n",
      "conv2d_4 (Conv2D)            (None, 32, 32, 32)        896       \n",
      "_________________________________________________________________\n",
      "activation_3 (Activation)    (None, 32, 32, 32)        0         \n",
      "_________________________________________________________________\n",
      "conv2d_5 (Conv2D)            (None, 32, 32, 32)        9248      \n",
      "_________________________________________________________________\n",
      "dropout_2 (Dropout)          (None, 32, 32, 32)        0         \n",
      "_________________________________________________________________\n",
      "batch_normalization_2 (Batch (None, 32, 32, 32)        128       \n",
      "_________________________________________________________________\n",
      "conv2d_6 (Conv2D)            (None, 32, 32, 64)        18496     \n",
      "_________________________________________________________________\n",
      "activation_4 (Activation)    (None, 32, 32, 64)        0         \n",
      "_________________________________________________________________\n",
      "max_pooling2d_1 (MaxPooling2 (None, 16, 16, 64)        0         \n",
      "_________________________________________________________________\n",
      "dropout_3 (Dropout)          (None, 16, 16, 64)        0         \n",
      "_________________________________________________________________\n",
      "batch_normalization_3 (Batch (None, 16, 16, 64)        256       \n",
      "_________________________________________________________________\n",
      "flatten (Flatten)            (None, 16384)             0         \n",
      "_________________________________________________________________\n",
      "dropout_4 (Dropout)          (None, 16384)             0         \n",
      "_________________________________________________________________\n",
      "dense (Dense)                (None, 256)               4194560   \n",
      "_________________________________________________________________\n",
      "activation_5 (Activation)    (None, 256)               0         \n",
      "_________________________________________________________________\n",
      "dropout_5 (Dropout)          (None, 256)               0         \n",
      "_________________________________________________________________\n",
      "batch_normalization_4 (Batch (None, 256)               1024      \n",
      "_________________________________________________________________\n",
      "dense_1 (Dense)              (None, 128)               32896     \n",
      "_________________________________________________________________\n",
      "activation_6 (Activation)    (None, 128)               0         \n",
      "_________________________________________________________________\n",
      "dropout_6 (Dropout)          (None, 128)               0         \n",
      "_________________________________________________________________\n",
      "batch_normalization_5 (Batch (None, 128)               512       \n",
      "_________________________________________________________________\n",
      "dense_2 (Dense)              (None, 10)                1290      \n",
      "_________________________________________________________________\n",
      "activation_7 (Activation)    (None, 10)                0         \n",
      "=================================================================\n",
      "Total params: 4,259,306\n",
      "Trainable params: 4,258,346\n",
      "Non-trainable params: 960\n",
      "_________________________________________________________________\n",
      "None\n"
     ]
    }
   ],
   "source": [
    "epochs = 25\n",
    "optimizer = 'adam'\n",
    "\n",
    "# compiling the model\n",
    "\n",
    "model.compile(loss='categorical_crossentropy', optimizer=optimizer, metrics=['accuracy'])\n",
    "\n",
    "print(model.summary())"
   ]
  },
  {
   "cell_type": "code",
   "execution_count": 13,
   "id": "53652a39",
   "metadata": {},
   "outputs": [
    {
     "name": "stdout",
     "output_type": "stream",
     "text": [
      "Epoch 1/25\n",
      "782/782 [==============================] - 418s 527ms/step - loss: 1.7456 - accuracy: 0.3963 - val_loss: 1.9886 - val_accuracy: 0.3918\n",
      "Epoch 2/25\n",
      "782/782 [==============================] - 396s 506ms/step - loss: 1.0563 - accuracy: 0.6229 - val_loss: 1.1298 - val_accuracy: 0.6076\n",
      "Epoch 3/25\n",
      "782/782 [==============================] - 396s 507ms/step - loss: 0.8789 - accuracy: 0.6899 - val_loss: 0.8920 - val_accuracy: 0.6844\n",
      "Epoch 4/25\n",
      "782/782 [==============================] - 393s 503ms/step - loss: 0.8043 - accuracy: 0.7196 - val_loss: 0.9309 - val_accuracy: 0.6771\n",
      "Epoch 5/25\n",
      "782/782 [==============================] - 401s 513ms/step - loss: 0.7677 - accuracy: 0.7313 - val_loss: 0.8714 - val_accuracy: 0.6908\n",
      "Epoch 6/25\n",
      "782/782 [==============================] - 414s 529ms/step - loss: 0.7188 - accuracy: 0.7455 - val_loss: 0.7622 - val_accuracy: 0.7334\n",
      "Epoch 7/25\n",
      "782/782 [==============================] - 397s 508ms/step - loss: 0.6886 - accuracy: 0.7574 - val_loss: 0.8183 - val_accuracy: 0.7064\n",
      "Epoch 8/25\n",
      "782/782 [==============================] - 409s 523ms/step - loss: 0.6646 - accuracy: 0.7689 - val_loss: 0.8105 - val_accuracy: 0.7184\n",
      "Epoch 9/25\n",
      "782/782 [==============================] - 359s 459ms/step - loss: 0.6427 - accuracy: 0.7766 - val_loss: 0.7906 - val_accuracy: 0.7254\n",
      "Epoch 10/25\n",
      "782/782 [==============================] - 359s 459ms/step - loss: 0.6223 - accuracy: 0.7820 - val_loss: 0.8228 - val_accuracy: 0.7203\n",
      "Epoch 11/25\n",
      "782/782 [==============================] - 356s 455ms/step - loss: 0.6114 - accuracy: 0.7864 - val_loss: 0.8563 - val_accuracy: 0.7131\n",
      "Epoch 12/25\n",
      "782/782 [==============================] - 349s 446ms/step - loss: 0.6056 - accuracy: 0.7910 - val_loss: 0.7068 - val_accuracy: 0.7531\n",
      "Epoch 13/25\n",
      "782/782 [==============================] - 344s 439ms/step - loss: 0.5901 - accuracy: 0.7906 - val_loss: 0.7667 - val_accuracy: 0.7381\n",
      "Epoch 14/25\n",
      "782/782 [==============================] - 354s 452ms/step - loss: 0.6026 - accuracy: 0.7885 - val_loss: 0.8406 - val_accuracy: 0.7099\n",
      "Epoch 15/25\n",
      "782/782 [==============================] - 347s 444ms/step - loss: 0.5586 - accuracy: 0.8047 - val_loss: 0.7760 - val_accuracy: 0.7326\n",
      "Epoch 16/25\n",
      "782/782 [==============================] - 378s 483ms/step - loss: 0.5572 - accuracy: 0.8035 - val_loss: 0.7443 - val_accuracy: 0.7414\n",
      "Epoch 17/25\n",
      "782/782 [==============================] - 421s 538ms/step - loss: 0.5487 - accuracy: 0.8069 - val_loss: 0.7262 - val_accuracy: 0.7489\n",
      "Epoch 18/25\n",
      "782/782 [==============================] - 346s 442ms/step - loss: 0.5553 - accuracy: 0.8074 - val_loss: 0.7137 - val_accuracy: 0.7495\n",
      "Epoch 19/25\n",
      "782/782 [==============================] - 342s 437ms/step - loss: 0.5494 - accuracy: 0.8074 - val_loss: 0.8026 - val_accuracy: 0.7202\n",
      "Epoch 20/25\n",
      "782/782 [==============================] - 347s 443ms/step - loss: 0.5577 - accuracy: 0.8049 - val_loss: 0.7132 - val_accuracy: 0.7551\n",
      "Epoch 21/25\n",
      "782/782 [==============================] - 348s 445ms/step - loss: 0.5357 - accuracy: 0.8144 - val_loss: 0.7233 - val_accuracy: 0.7517\n",
      "Epoch 22/25\n",
      "782/782 [==============================] - 374s 478ms/step - loss: 0.5273 - accuracy: 0.8163 - val_loss: 0.7540 - val_accuracy: 0.7482\n",
      "Epoch 23/25\n",
      "782/782 [==============================] - 405s 518ms/step - loss: 0.5198 - accuracy: 0.8203 - val_loss: 0.6963 - val_accuracy: 0.7618\n",
      "Epoch 24/25\n",
      "782/782 [==============================] - 406s 519ms/step - loss: 0.5179 - accuracy: 0.8182 - val_loss: 0.7038 - val_accuracy: 0.7553\n",
      "Epoch 25/25\n",
      "782/782 [==============================] - 469s 600ms/step - loss: 0.5084 - accuracy: 0.8231 - val_loss: 0.7455 - val_accuracy: 0.7425\n"
     ]
    },
    {
     "data": {
      "text/plain": [
       "<tensorflow.python.keras.callbacks.History at 0x18f07873cc0>"
      ]
     },
     "execution_count": 13,
     "metadata": {},
     "output_type": "execute_result"
    }
   ],
   "source": [
    "model.fit(X_train, y_train, validation_data=(X_test, y_test), epochs=epochs, batch_size=64) "
   ]
  },
  {
   "cell_type": "code",
   "execution_count": 14,
   "id": "5f8c6c4a",
   "metadata": {},
   "outputs": [
    {
     "name": "stdout",
     "output_type": "stream",
     "text": [
      "Accuracy: 74.25%\n"
     ]
    }
   ],
   "source": [
    "## Model evaluation\n",
    "scores = model.evaluate(X_test, y_test, verbose=0)\n",
    "print(\"Accuracy: %.2f%%\" % (scores[1]*100))"
   ]
  },
  {
   "cell_type": "code",
   "execution_count": null,
   "id": "198b830b",
   "metadata": {},
   "outputs": [],
   "source": []
  }
 ],
 "metadata": {
  "kernelspec": {
   "display_name": "Python 3",
   "language": "python",
   "name": "python3"
  },
  "language_info": {
   "codemirror_mode": {
    "name": "ipython",
    "version": 3
   },
   "file_extension": ".py",
   "mimetype": "text/x-python",
   "name": "python",
   "nbconvert_exporter": "python",
   "pygments_lexer": "ipython3",
   "version": "3.6.13"
  }
 },
 "nbformat": 4,
 "nbformat_minor": 5
}
